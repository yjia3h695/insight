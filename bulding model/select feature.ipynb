{
 "cells": [
  {
   "cell_type": "code",
   "execution_count": 2,
   "metadata": {
    "collapsed": false
   },
   "outputs": [],
   "source": [
    "from read_db import read_db\n",
    "from sklearn.cross_validation import train_test_split\n",
    "import matplotlib.pyplot as plt\n",
    "\n",
    "weather, running, full, stat= read_db()\n",
    "\n"
   ]
  },
  {
   "cell_type": "code",
   "execution_count": 4,
   "metadata": {
    "collapsed": false
   },
   "outputs": [
    {
     "name": "stderr",
     "output_type": "stream",
     "text": [
      "/home/yanxin/anaconda2/envs/insight/lib/python2.7/site-packages/ipykernel/__main__.py:5: SettingWithCopyWarning: \n",
      "A value is trying to be set on a copy of a slice from a DataFrame.\n",
      "Try using .loc[row_indexer,col_indexer] = value instead\n",
      "\n",
      "See the caveats in the documentation: http://pandas.pydata.org/pandas-docs/stable/indexing.html#indexing-view-versus-copy\n",
      "/home/yanxin/anaconda2/envs/insight/lib/python2.7/site-packages/ipykernel/__main__.py:7: SettingWithCopyWarning: \n",
      "A value is trying to be set on a copy of a slice from a DataFrame.\n",
      "Try using .loc[row_indexer,col_indexer] = value instead\n",
      "\n",
      "See the caveats in the documentation: http://pandas.pydata.org/pandas-docs/stable/indexing.html#indexing-view-versus-copy\n",
      "/home/yanxin/anaconda2/envs/insight/lib/python2.7/site-packages/ipykernel/__main__.py:12: SettingWithCopyWarning: \n",
      "A value is trying to be set on a copy of a slice from a DataFrame.\n",
      "Try using .loc[row_indexer,col_indexer] = value instead\n",
      "\n",
      "See the caveats in the documentation: http://pandas.pydata.org/pandas-docs/stable/indexing.html#indexing-view-versus-copy\n",
      "/home/yanxin/anaconda2/envs/insight/lib/python2.7/site-packages/ipykernel/__main__.py:13: SettingWithCopyWarning: \n",
      "A value is trying to be set on a copy of a slice from a DataFrame.\n",
      "Try using .loc[row_indexer,col_indexer] = value instead\n",
      "\n",
      "See the caveats in the documentation: http://pandas.pydata.org/pandas-docs/stable/indexing.html#indexing-view-versus-copy\n"
     ]
    }
   ],
   "source": [
    "datasets=stat[['count','dayofweek','mean_tempf','max_tempf','precipitationIn',\n",
    "\t'mean_dew_pointf','mean_hum','mean_wind_speed','wind_dir_degrees',\n",
    "\t'mean_visibility_miles','cloudcover','mean_sea_level_pressure_in','events']]\n",
    " \n",
    "datasets['events']=datasets['events'].fillna(value = 'Clear')\n",
    "\n",
    "datasets['id'] = datasets['events'].astype('category').cat.codes\n",
    "\n",
    "training=datasets[['dayofweek','id','mean_tempf','max_tempf','precipitationIn',\n",
    "\t'mean_dew_pointf','mean_hum','mean_wind_speed','wind_dir_degrees',\n",
    "\t'mean_visibility_miles','cloudcover','mean_sea_level_pressure_in','count']]\n",
    "training['precipitationIn']=training['precipitationIn'].replace('T',0.0001)\n",
    "training['precipitationIn']=training['precipitationIn'].astype(float)"
   ]
  },
  {
   "cell_type": "code",
   "execution_count": 6,
   "metadata": {
    "collapsed": false
   },
   "outputs": [],
   "source": [
    "%matplotlib inline\n",
    "##GLM modeling, plot with stat parameters\n",
    "from sklearn.feature_selection import RFE\n",
    "from sklearn.linear_model import LinearRegression\n",
    "from sklearn.cross_validation import cross_val_predict\n",
    "from sklearn import linear_model\n",
    "import numpy as np\n",
    "\n",
    "def computing_stat(X, Y):\n",
    "   lr = LinearRegression()\n",
    "   lr.fit(X, Y)\n",
    "#     r^2 of model\n",
    "#     lr.score(X, Y)\n",
    "#     # The mean square error\n",
    "#     print(\"Residual sum of squares: %.2f\"\n",
    "#           % np.mean((lr.predict(X) - Y) ** 2))\n",
    "#     # Explained variance score: 1 is perfect prediction\n",
    "#     print('Variance score: %.2f' % lr.score(X, Y))\n",
    "   return np.mean((lr.predict(X) - Y) ** 2), lr.score(X, Y)\n",
    "\n",
    "#return least sig feature\n",
    "def remove_one_feature(X, Y, names):\n",
    "   lr = LinearRegression()\n",
    "   rfe = RFE(lr, n_features_to_select=1)\n",
    "   rfe.fit(X,Y)\n",
    "   rank = (sorted(zip(map(lambda x: round(x, 4), rfe.ranking_), names)))\n",
    "   return rank[-1][1]\n",
    "\n",
    "total_feature = 12\n",
    "drop_feature = [] #str type\n",
    "num_feature = []\n",
    "r2 = []\n",
    "rss = []\n",
    "feature = []\n",
    "for i in range(total_feature-5):\n",
    "   array = training.values.astype(int)\n",
    "   Y = array[:,-1]\n",
    "   X = array[:, 0:-2]\n",
    "   names = training.columns\n",
    "   rss_temp, r2_temp = computing_stat(X, Y)\n",
    "#     print(\"fished stats\")\n",
    "   rss.append(rss_temp)\n",
    "   r2.append(r2_temp)\n",
    "   num_feature.append(total_feature-i)\n",
    "   drop = remove_one_feature(X, Y, names)\n",
    "#     print(\"fished remove one \"+i)\n",
    "   drop_feature.append(drop)\n",
    "   training = training.drop(drop, axis=1)\n",
    "   #print(i)"
   ]
  },
  {
   "cell_type": "code",
   "execution_count": 10,
   "metadata": {
    "collapsed": false
   },
   "outputs": [
    {
     "data": {
      "text/plain": [
       "[965.6801963061406,\n",
       " 901.41536975719646,\n",
       " 902.84750397925336,\n",
       " 902.85482731643447,\n",
       " 903.34182474041347,\n",
       " 903.72809214998415,\n",
       " 908.44533169662236]"
      ]
     },
     "execution_count": 10,
     "metadata": {},
     "output_type": "execute_result"
    }
   ],
   "source": [
    "rss"
   ]
  },
  {
   "cell_type": "code",
   "execution_count": 11,
   "metadata": {
    "collapsed": false
   },
   "outputs": [
    {
     "data": {
      "text/plain": [
       "[0.0011684271223409981,\n",
       " 0.067639436912255269,\n",
       " 0.066158138152002444,\n",
       " 0.066150563407875618,\n",
       " 0.065646847576443013,\n",
       " 0.065247319776526758,\n",
       " 0.060368139470218025]"
      ]
     },
     "execution_count": 11,
     "metadata": {},
     "output_type": "execute_result"
    }
   ],
   "source": [
    "r2"
   ]
  },
  {
   "cell_type": "code",
   "execution_count": 12,
   "metadata": {
    "collapsed": false
   },
   "outputs": [
    {
     "data": {
      "text/plain": [
       "['mean_tempf',\n",
       " 'wind_dir_degrees',\n",
       " 'mean_wind_speed',\n",
       " 'id',\n",
       " 'cloudcover',\n",
       " 'mean_hum',\n",
       " 'mean_dew_pointf']"
      ]
     },
     "execution_count": 12,
     "metadata": {},
     "output_type": "execute_result"
    }
   ],
   "source": [
    "drop_feature"
   ]
  },
  {
   "cell_type": "code",
   "execution_count": null,
   "metadata": {
    "collapsed": true
   },
   "outputs": [],
   "source": []
  }
 ],
 "metadata": {
  "kernelspec": {
   "display_name": "Python 2",
   "language": "python",
   "name": "python2"
  },
  "language_info": {
   "codemirror_mode": {
    "name": "ipython",
    "version": 2
   },
   "file_extension": ".py",
   "mimetype": "text/x-python",
   "name": "python",
   "nbconvert_exporter": "python",
   "pygments_lexer": "ipython2",
   "version": "2.7.11"
  }
 },
 "nbformat": 4,
 "nbformat_minor": 0
}
