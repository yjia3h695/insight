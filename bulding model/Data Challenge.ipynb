{
 "cells": [
  {
   "cell_type": "code",
   "execution_count": 102,
   "metadata": {
    "collapsed": true
   },
   "outputs": [],
   "source": [
    "%matplotlib inline\n",
    "\n",
    "\n",
    "import pandas as pd\n",
    "import matplotlib.pyplot as plt"
   ]
  },
  {
   "cell_type": "code",
   "execution_count": 231,
   "metadata": {
    "collapsed": false
   },
   "outputs": [],
   "source": [
    "event=pd.read_csv('events.csv')\n",
    "users=pd.read_csv('users.csv')\n",
    "experiments=pd.read_csv('experiments.csv')"
   ]
  },
  {
   "cell_type": "code",
   "execution_count": 239,
   "metadata": {
    "collapsed": false
   },
   "outputs": [
    {
     "data": {
      "text/html": [
       "<div>\n",
       "<table border=\"1\" class=\"dataframe\">\n",
       "  <thead>\n",
       "    <tr style=\"text-align: right;\">\n",
       "      <th></th>\n",
       "      <th>user_id</th>\n",
       "      <th>event_type</th>\n",
       "      <th>event_name</th>\n",
       "      <th>location</th>\n",
       "      <th>device</th>\n",
       "      <th>user_type</th>\n",
       "      <th>event_time</th>\n",
       "    </tr>\n",
       "  </thead>\n",
       "  <tbody>\n",
       "    <tr>\n",
       "      <th>0</th>\n",
       "      <td>10522.0</td>\n",
       "      <td>engagement</td>\n",
       "      <td>login</td>\n",
       "      <td>Japan</td>\n",
       "      <td>dell inspiron notebook</td>\n",
       "      <td>3.0</td>\n",
       "      <td>2014-05-02 11:02:39</td>\n",
       "    </tr>\n",
       "    <tr>\n",
       "      <th>1</th>\n",
       "      <td>10522.0</td>\n",
       "      <td>engagement</td>\n",
       "      <td>home_page</td>\n",
       "      <td>Japan</td>\n",
       "      <td>dell inspiron notebook</td>\n",
       "      <td>3.0</td>\n",
       "      <td>2014-05-02 11:02:53</td>\n",
       "    </tr>\n",
       "    <tr>\n",
       "      <th>2</th>\n",
       "      <td>10522.0</td>\n",
       "      <td>engagement</td>\n",
       "      <td>like_message</td>\n",
       "      <td>Japan</td>\n",
       "      <td>dell inspiron notebook</td>\n",
       "      <td>3.0</td>\n",
       "      <td>2014-05-02 11:03:28</td>\n",
       "    </tr>\n",
       "  </tbody>\n",
       "</table>\n",
       "</div>"
      ],
      "text/plain": [
       "   user_id  event_type    event_name location                  device  \\\n",
       "0  10522.0  engagement         login    Japan  dell inspiron notebook   \n",
       "1  10522.0  engagement     home_page    Japan  dell inspiron notebook   \n",
       "2  10522.0  engagement  like_message    Japan  dell inspiron notebook   \n",
       "\n",
       "   user_type          event_time  \n",
       "0        3.0 2014-05-02 11:02:39  \n",
       "1        3.0 2014-05-02 11:02:53  \n",
       "2        3.0 2014-05-02 11:03:28  "
      ]
     },
     "execution_count": 239,
     "metadata": {},
     "output_type": "execute_result"
    }
   ],
   "source": [
    "event['event_time']=pd.to_datetime(event.occurred_at)\n",
    "del event['occurred_at']\n",
    "event.head(3)"
   ]
  },
  {
   "cell_type": "code",
   "execution_count": 240,
   "metadata": {
    "collapsed": false
   },
   "outputs": [
    {
     "data": {
      "text/html": [
       "<div>\n",
       "<table border=\"1\" class=\"dataframe\">\n",
       "  <thead>\n",
       "    <tr style=\"text-align: right;\">\n",
       "      <th></th>\n",
       "      <th>user_id</th>\n",
       "      <th>event_type</th>\n",
       "      <th>event_name</th>\n",
       "      <th>location</th>\n",
       "      <th>device</th>\n",
       "      <th>user_type</th>\n",
       "      <th>event_time</th>\n",
       "    </tr>\n",
       "  </thead>\n",
       "  <tbody>\n",
       "    <tr>\n",
       "      <th>1351</th>\n",
       "      <td>11901.0</td>\n",
       "      <td>engagement</td>\n",
       "      <td>send_message</td>\n",
       "      <td>Saudi Arabia</td>\n",
       "      <td>samsung galaxy s4</td>\n",
       "      <td>2.0</td>\n",
       "      <td>2014-06-03 15:13:08</td>\n",
       "    </tr>\n",
       "    <tr>\n",
       "      <th>3838</th>\n",
       "      <td>12292.0</td>\n",
       "      <td>engagement</td>\n",
       "      <td>send_message</td>\n",
       "      <td>Spain</td>\n",
       "      <td>macbook pro</td>\n",
       "      <td>2.0</td>\n",
       "      <td>2014-06-06 19:45:30</td>\n",
       "    </tr>\n",
       "    <tr>\n",
       "      <th>4479</th>\n",
       "      <td>12382.0</td>\n",
       "      <td>engagement</td>\n",
       "      <td>send_message</td>\n",
       "      <td>Germany</td>\n",
       "      <td>iphone 4s</td>\n",
       "      <td>1.0</td>\n",
       "      <td>2014-06-08 12:16:28</td>\n",
       "    </tr>\n",
       "  </tbody>\n",
       "</table>\n",
       "</div>"
      ],
      "text/plain": [
       "      user_id  event_type    event_name      location             device  \\\n",
       "1351  11901.0  engagement  send_message  Saudi Arabia  samsung galaxy s4   \n",
       "3838  12292.0  engagement  send_message         Spain        macbook pro   \n",
       "4479  12382.0  engagement  send_message       Germany          iphone 4s   \n",
       "\n",
       "      user_type          event_time  \n",
       "1351        2.0 2014-06-03 15:13:08  \n",
       "3838        2.0 2014-06-06 19:45:30  \n",
       "4479        1.0 2014-06-08 12:16:28  "
      ]
     },
     "execution_count": 240,
     "metadata": {},
     "output_type": "execute_result"
    }
   ],
   "source": [
    "valid_event=event[  (event.event_time >= '2014-06-01') \\\n",
    "                  & (event.event_time <= '2014-06-30') \\\n",
    "                  & (event.event_name == 'send_message')]\n",
    "valid_event.head(3)"
   ]
  },
  {
   "cell_type": "code",
   "execution_count": 241,
   "metadata": {
    "collapsed": false
   },
   "outputs": [
    {
     "data": {
      "text/plain": [
       "user_id\n",
       "4.0      4\n",
       "11.0     7\n",
       "19.0     5\n",
       "20.0     1\n",
       "22.0    16\n",
       "Name: event_time, dtype: int64"
      ]
     },
     "execution_count": 241,
     "metadata": {},
     "output_type": "execute_result"
    }
   ],
   "source": [
    "valid_event.groupby('user_id').count().event_time.head()"
   ]
  },
  {
   "cell_type": "code",
   "execution_count": 242,
   "metadata": {
    "collapsed": false
   },
   "outputs": [
    {
     "data": {
      "text/html": [
       "<div>\n",
       "<table border=\"1\" class=\"dataframe\">\n",
       "  <thead>\n",
       "    <tr style=\"text-align: right;\">\n",
       "      <th></th>\n",
       "      <th>user_id</th>\n",
       "      <th>experiment</th>\n",
       "      <th>experiment_group</th>\n",
       "      <th>location</th>\n",
       "      <th>device</th>\n",
       "      <th>user_type</th>\n",
       "      <th>experiment_start_time</th>\n",
       "    </tr>\n",
       "  </thead>\n",
       "  <tbody>\n",
       "    <tr>\n",
       "      <th>0</th>\n",
       "      <td>4.0</td>\n",
       "      <td>publisher_update</td>\n",
       "      <td>control_group</td>\n",
       "      <td>India</td>\n",
       "      <td>lenovo thinkpad</td>\n",
       "      <td>3.0</td>\n",
       "      <td>2014-06-05 15:20:16</td>\n",
       "    </tr>\n",
       "    <tr>\n",
       "      <th>1</th>\n",
       "      <td>8198.0</td>\n",
       "      <td>publisher_update</td>\n",
       "      <td>control_group</td>\n",
       "      <td>Japan</td>\n",
       "      <td>nokia lumia 635</td>\n",
       "      <td>1.0</td>\n",
       "      <td>2014-06-11 09:31:32</td>\n",
       "    </tr>\n",
       "    <tr>\n",
       "      <th>2</th>\n",
       "      <td>11.0</td>\n",
       "      <td>publisher_update</td>\n",
       "      <td>control_group</td>\n",
       "      <td>United States</td>\n",
       "      <td>iphone 4s</td>\n",
       "      <td>1.0</td>\n",
       "      <td>2014-06-17 09:31:22</td>\n",
       "    </tr>\n",
       "  </tbody>\n",
       "</table>\n",
       "</div>"
      ],
      "text/plain": [
       "   user_id        experiment experiment_group       location           device  \\\n",
       "0      4.0  publisher_update    control_group          India  lenovo thinkpad   \n",
       "1   8198.0  publisher_update    control_group          Japan  nokia lumia 635   \n",
       "2     11.0  publisher_update    control_group  United States        iphone 4s   \n",
       "\n",
       "   user_type experiment_start_time  \n",
       "0        3.0   2014-06-05 15:20:16  \n",
       "1        1.0   2014-06-11 09:31:32  \n",
       "2        1.0   2014-06-17 09:31:22  "
      ]
     },
     "execution_count": 242,
     "metadata": {},
     "output_type": "execute_result"
    }
   ],
   "source": [
    "experiments['experiment_start_time']=pd.to_datetime(experiments.occurred_at)\n",
    "del experiments['occurred_at']\n",
    "experiments.head(3)"
   ]
  },
  {
   "cell_type": "code",
   "execution_count": 243,
   "metadata": {
    "collapsed": false
   },
   "outputs": [
    {
     "data": {
      "text/html": [
       "<div>\n",
       "<table border=\"1\" class=\"dataframe\">\n",
       "  <thead>\n",
       "    <tr style=\"text-align: right;\">\n",
       "      <th></th>\n",
       "      <th>user_id</th>\n",
       "      <th>created_at</th>\n",
       "      <th>company_id</th>\n",
       "      <th>language</th>\n",
       "      <th>state</th>\n",
       "      <th>activated_time</th>\n",
       "    </tr>\n",
       "  </thead>\n",
       "  <tbody>\n",
       "    <tr>\n",
       "      <th>0</th>\n",
       "      <td>0.0</td>\n",
       "      <td>2013-01-01 20:59:39</td>\n",
       "      <td>5737.0</td>\n",
       "      <td>english</td>\n",
       "      <td>active</td>\n",
       "      <td>2013-01-01 21:01:07</td>\n",
       "    </tr>\n",
       "    <tr>\n",
       "      <th>1</th>\n",
       "      <td>1.0</td>\n",
       "      <td>2013-01-01 13:07:46</td>\n",
       "      <td>28.0</td>\n",
       "      <td>english</td>\n",
       "      <td>pending</td>\n",
       "      <td>NaT</td>\n",
       "    </tr>\n",
       "    <tr>\n",
       "      <th>2</th>\n",
       "      <td>2.0</td>\n",
       "      <td>2013-01-01 10:59:05</td>\n",
       "      <td>51.0</td>\n",
       "      <td>english</td>\n",
       "      <td>pending</td>\n",
       "      <td>NaT</td>\n",
       "    </tr>\n",
       "  </tbody>\n",
       "</table>\n",
       "</div>"
      ],
      "text/plain": [
       "   user_id           created_at  company_id language    state  \\\n",
       "0      0.0  2013-01-01 20:59:39      5737.0  english   active   \n",
       "1      1.0  2013-01-01 13:07:46        28.0  english  pending   \n",
       "2      2.0  2013-01-01 10:59:05        51.0  english  pending   \n",
       "\n",
       "       activated_time  \n",
       "0 2013-01-01 21:01:07  \n",
       "1                 NaT  \n",
       "2                 NaT  "
      ]
     },
     "execution_count": 243,
     "metadata": {},
     "output_type": "execute_result"
    }
   ],
   "source": [
    "users['activated_time']=pd.to_datetime(users.activated_at)\n",
    "del users['activated_at']\n",
    "users.head(3)"
   ]
  },
  {
   "cell_type": "code",
   "execution_count": 244,
   "metadata": {
    "collapsed": false
   },
   "outputs": [
    {
     "data": {
      "text/html": [
       "<div>\n",
       "<table border=\"1\" class=\"dataframe\">\n",
       "  <thead>\n",
       "    <tr style=\"text-align: right;\">\n",
       "      <th></th>\n",
       "      <th>user_id</th>\n",
       "      <th>created_at</th>\n",
       "      <th>company_id</th>\n",
       "      <th>language</th>\n",
       "      <th>state</th>\n",
       "      <th>activated_time</th>\n",
       "    </tr>\n",
       "  </thead>\n",
       "  <tbody>\n",
       "    <tr>\n",
       "      <th>0</th>\n",
       "      <td>0.0</td>\n",
       "      <td>2013-01-01 20:59:39</td>\n",
       "      <td>5737.0</td>\n",
       "      <td>english</td>\n",
       "      <td>active</td>\n",
       "      <td>2013-01-01 21:01:07</td>\n",
       "    </tr>\n",
       "    <tr>\n",
       "      <th>3</th>\n",
       "      <td>3.0</td>\n",
       "      <td>2013-01-01 18:40:36</td>\n",
       "      <td>2800.0</td>\n",
       "      <td>german</td>\n",
       "      <td>active</td>\n",
       "      <td>2013-01-01 18:42:02</td>\n",
       "    </tr>\n",
       "    <tr>\n",
       "      <th>4</th>\n",
       "      <td>4.0</td>\n",
       "      <td>2013-01-01 14:37:51</td>\n",
       "      <td>5110.0</td>\n",
       "      <td>indian</td>\n",
       "      <td>active</td>\n",
       "      <td>2013-01-01 14:39:05</td>\n",
       "    </tr>\n",
       "  </tbody>\n",
       "</table>\n",
       "</div>"
      ],
      "text/plain": [
       "   user_id           created_at  company_id language   state  \\\n",
       "0      0.0  2013-01-01 20:59:39      5737.0  english  active   \n",
       "3      3.0  2013-01-01 18:40:36      2800.0   german  active   \n",
       "4      4.0  2013-01-01 14:37:51      5110.0   indian  active   \n",
       "\n",
       "       activated_time  \n",
       "0 2013-01-01 21:01:07  \n",
       "3 2013-01-01 18:42:02  \n",
       "4 2013-01-01 14:39:05  "
      ]
     },
     "execution_count": 244,
     "metadata": {},
     "output_type": "execute_result"
    }
   ],
   "source": [
    "valid_user=users[users.activated_time < '2014-06-01']\n",
    "valid_user.head(3)"
   ]
  },
  {
   "cell_type": "code",
   "execution_count": 245,
   "metadata": {
    "collapsed": false
   },
   "outputs": [
    {
     "data": {
      "text/html": [
       "<div>\n",
       "<table border=\"1\" class=\"dataframe\">\n",
       "  <thead>\n",
       "    <tr style=\"text-align: right;\">\n",
       "      <th></th>\n",
       "      <th>user_id</th>\n",
       "      <th>created_at</th>\n",
       "      <th>company_id</th>\n",
       "      <th>language</th>\n",
       "      <th>state</th>\n",
       "      <th>activated_time</th>\n",
       "      <th>event_type</th>\n",
       "      <th>event_name</th>\n",
       "      <th>location</th>\n",
       "      <th>device</th>\n",
       "      <th>user_type</th>\n",
       "      <th>event_time</th>\n",
       "    </tr>\n",
       "  </thead>\n",
       "  <tbody>\n",
       "    <tr>\n",
       "      <th>0</th>\n",
       "      <td>4.0</td>\n",
       "      <td>2013-01-01 14:37:51</td>\n",
       "      <td>5110.0</td>\n",
       "      <td>indian</td>\n",
       "      <td>active</td>\n",
       "      <td>2013-01-01 14:39:05</td>\n",
       "      <td>engagement</td>\n",
       "      <td>send_message</td>\n",
       "      <td>India</td>\n",
       "      <td>lenovo thinkpad</td>\n",
       "      <td>3.0</td>\n",
       "      <td>2014-06-05 15:20:51</td>\n",
       "    </tr>\n",
       "    <tr>\n",
       "      <th>1</th>\n",
       "      <td>4.0</td>\n",
       "      <td>2013-01-01 14:37:51</td>\n",
       "      <td>5110.0</td>\n",
       "      <td>indian</td>\n",
       "      <td>active</td>\n",
       "      <td>2013-01-01 14:39:05</td>\n",
       "      <td>engagement</td>\n",
       "      <td>send_message</td>\n",
       "      <td>India</td>\n",
       "      <td>dell inspiron desktop</td>\n",
       "      <td>3.0</td>\n",
       "      <td>2014-06-10 06:03:23</td>\n",
       "    </tr>\n",
       "    <tr>\n",
       "      <th>2</th>\n",
       "      <td>4.0</td>\n",
       "      <td>2013-01-01 14:37:51</td>\n",
       "      <td>5110.0</td>\n",
       "      <td>indian</td>\n",
       "      <td>active</td>\n",
       "      <td>2013-01-01 14:39:05</td>\n",
       "      <td>engagement</td>\n",
       "      <td>send_message</td>\n",
       "      <td>India</td>\n",
       "      <td>dell inspiron desktop</td>\n",
       "      <td>3.0</td>\n",
       "      <td>2014-06-10 06:04:26</td>\n",
       "    </tr>\n",
       "  </tbody>\n",
       "</table>\n",
       "</div>"
      ],
      "text/plain": [
       "   user_id           created_at  company_id language   state  \\\n",
       "0      4.0  2013-01-01 14:37:51      5110.0   indian  active   \n",
       "1      4.0  2013-01-01 14:37:51      5110.0   indian  active   \n",
       "2      4.0  2013-01-01 14:37:51      5110.0   indian  active   \n",
       "\n",
       "       activated_time  event_type    event_name location  \\\n",
       "0 2013-01-01 14:39:05  engagement  send_message    India   \n",
       "1 2013-01-01 14:39:05  engagement  send_message    India   \n",
       "2 2013-01-01 14:39:05  engagement  send_message    India   \n",
       "\n",
       "                  device  user_type          event_time  \n",
       "0        lenovo thinkpad        3.0 2014-06-05 15:20:51  \n",
       "1  dell inspiron desktop        3.0 2014-06-10 06:03:23  \n",
       "2  dell inspiron desktop        3.0 2014-06-10 06:04:26  "
      ]
     },
     "execution_count": 245,
     "metadata": {},
     "output_type": "execute_result"
    }
   ],
   "source": [
    "valid_user_event = valid_user.merge(valid_event, left_on='user_id', right_on='user_id', how='inner')\n",
    "valid_user_event.head(3)"
   ]
  },
  {
   "cell_type": "code",
   "execution_count": 246,
   "metadata": {
    "collapsed": false
   },
   "outputs": [
    {
     "data": {
      "text/plain": [
       "user_id\n",
       "4.0      4\n",
       "11.0     7\n",
       "19.0     5\n",
       "20.0     1\n",
       "22.0    16\n",
       "Name: event_time, dtype: int64"
      ]
     },
     "execution_count": 246,
     "metadata": {},
     "output_type": "execute_result"
    }
   ],
   "source": [
    "valid_user_event.groupby('user_id').count().event_time.head()"
   ]
  },
  {
   "cell_type": "code",
   "execution_count": 248,
   "metadata": {
    "collapsed": false
   },
   "outputs": [
    {
     "data": {
      "text/html": [
       "<div>\n",
       "<table border=\"1\" class=\"dataframe\">\n",
       "  <thead>\n",
       "    <tr style=\"text-align: right;\">\n",
       "      <th></th>\n",
       "      <th>user_id</th>\n",
       "      <th>created_at</th>\n",
       "      <th>company_id</th>\n",
       "      <th>language</th>\n",
       "      <th>state</th>\n",
       "      <th>activated_time</th>\n",
       "      <th>event_type</th>\n",
       "      <th>event_name</th>\n",
       "      <th>location_x</th>\n",
       "      <th>device_x</th>\n",
       "      <th>user_type_x</th>\n",
       "      <th>event_time</th>\n",
       "      <th>experiment</th>\n",
       "      <th>experiment_group</th>\n",
       "      <th>location_y</th>\n",
       "      <th>device_y</th>\n",
       "      <th>user_type_y</th>\n",
       "      <th>experiment_start_time</th>\n",
       "    </tr>\n",
       "  </thead>\n",
       "  <tbody>\n",
       "    <tr>\n",
       "      <th>0</th>\n",
       "      <td>4.0</td>\n",
       "      <td>2013-01-01 14:37:51</td>\n",
       "      <td>5110.0</td>\n",
       "      <td>indian</td>\n",
       "      <td>active</td>\n",
       "      <td>2013-01-01 14:39:05</td>\n",
       "      <td>engagement</td>\n",
       "      <td>send_message</td>\n",
       "      <td>India</td>\n",
       "      <td>lenovo thinkpad</td>\n",
       "      <td>3.0</td>\n",
       "      <td>2014-06-05 15:20:51</td>\n",
       "      <td>publisher_update</td>\n",
       "      <td>control_group</td>\n",
       "      <td>India</td>\n",
       "      <td>lenovo thinkpad</td>\n",
       "      <td>3.0</td>\n",
       "      <td>2014-06-05 15:20:16</td>\n",
       "    </tr>\n",
       "    <tr>\n",
       "      <th>1</th>\n",
       "      <td>4.0</td>\n",
       "      <td>2013-01-01 14:37:51</td>\n",
       "      <td>5110.0</td>\n",
       "      <td>indian</td>\n",
       "      <td>active</td>\n",
       "      <td>2013-01-01 14:39:05</td>\n",
       "      <td>engagement</td>\n",
       "      <td>send_message</td>\n",
       "      <td>India</td>\n",
       "      <td>dell inspiron desktop</td>\n",
       "      <td>3.0</td>\n",
       "      <td>2014-06-10 06:03:23</td>\n",
       "      <td>publisher_update</td>\n",
       "      <td>control_group</td>\n",
       "      <td>India</td>\n",
       "      <td>lenovo thinkpad</td>\n",
       "      <td>3.0</td>\n",
       "      <td>2014-06-05 15:20:16</td>\n",
       "    </tr>\n",
       "    <tr>\n",
       "      <th>2</th>\n",
       "      <td>4.0</td>\n",
       "      <td>2013-01-01 14:37:51</td>\n",
       "      <td>5110.0</td>\n",
       "      <td>indian</td>\n",
       "      <td>active</td>\n",
       "      <td>2013-01-01 14:39:05</td>\n",
       "      <td>engagement</td>\n",
       "      <td>send_message</td>\n",
       "      <td>India</td>\n",
       "      <td>dell inspiron desktop</td>\n",
       "      <td>3.0</td>\n",
       "      <td>2014-06-10 06:04:26</td>\n",
       "      <td>publisher_update</td>\n",
       "      <td>control_group</td>\n",
       "      <td>India</td>\n",
       "      <td>lenovo thinkpad</td>\n",
       "      <td>3.0</td>\n",
       "      <td>2014-06-05 15:20:16</td>\n",
       "    </tr>\n",
       "  </tbody>\n",
       "</table>\n",
       "</div>"
      ],
      "text/plain": [
       "   user_id           created_at  company_id language   state  \\\n",
       "0      4.0  2013-01-01 14:37:51      5110.0   indian  active   \n",
       "1      4.0  2013-01-01 14:37:51      5110.0   indian  active   \n",
       "2      4.0  2013-01-01 14:37:51      5110.0   indian  active   \n",
       "\n",
       "       activated_time  event_type    event_name location_x  \\\n",
       "0 2013-01-01 14:39:05  engagement  send_message      India   \n",
       "1 2013-01-01 14:39:05  engagement  send_message      India   \n",
       "2 2013-01-01 14:39:05  engagement  send_message      India   \n",
       "\n",
       "                device_x  user_type_x          event_time        experiment  \\\n",
       "0        lenovo thinkpad          3.0 2014-06-05 15:20:51  publisher_update   \n",
       "1  dell inspiron desktop          3.0 2014-06-10 06:03:23  publisher_update   \n",
       "2  dell inspiron desktop          3.0 2014-06-10 06:04:26  publisher_update   \n",
       "\n",
       "  experiment_group location_y         device_y  user_type_y  \\\n",
       "0    control_group      India  lenovo thinkpad          3.0   \n",
       "1    control_group      India  lenovo thinkpad          3.0   \n",
       "2    control_group      India  lenovo thinkpad          3.0   \n",
       "\n",
       "  experiment_start_time  \n",
       "0   2014-06-05 15:20:16  \n",
       "1   2014-06-05 15:20:16  \n",
       "2   2014-06-05 15:20:16  "
      ]
     },
     "execution_count": 248,
     "metadata": {},
     "output_type": "execute_result"
    }
   ],
   "source": [
    "valid_user_event_experiment = valid_user_event.merge(experiments,\\\n",
    "                                                     left_on='user_id',\\\n",
    "                                                     right_on='user_id',\\\n",
    "                                                     how='inner')\n",
    "valid_user_event_experiment.head(3)"
   ]
  },
  {
   "cell_type": "code",
   "execution_count": 270,
   "metadata": {
    "collapsed": false
   },
   "outputs": [],
   "source": [
    "valid_user_event_experiment.groupby(['user_id','experiment_group']).count().event_time.to_csv('1.csv')"
   ]
  },
  {
   "cell_type": "code",
   "execution_count": 259,
   "metadata": {
    "collapsed": false
   },
   "outputs": [
    {
     "data": {
      "text/plain": [
       "array(['send_message'], dtype=object)"
      ]
     },
     "execution_count": 259,
     "metadata": {},
     "output_type": "execute_result"
    }
   ],
   "source": [
    "valid_event.event_name. unique()"
   ]
  },
  {
   "cell_type": "code",
   "execution_count": 260,
   "metadata": {
    "collapsed": false
   },
   "outputs": [
    {
     "data": {
      "text/plain": [
       "1"
      ]
     },
     "execution_count": 260,
     "metadata": {},
     "output_type": "execute_result"
    }
   ],
   "source": [
    "valid_event.event_name. unique().size"
   ]
  },
  {
   "cell_type": "code",
   "execution_count": 261,
   "metadata": {
    "collapsed": false
   },
   "outputs": [
    {
     "data": {
      "text/plain": [
       "array(['engagement'], dtype=object)"
      ]
     },
     "execution_count": 261,
     "metadata": {},
     "output_type": "execute_result"
    }
   ],
   "source": [
    "valid_event.event_type.unique()"
   ]
  },
  {
   "cell_type": "code",
   "execution_count": 262,
   "metadata": {
    "collapsed": false
   },
   "outputs": [
    {
     "data": {
      "text/plain": [
       "1"
      ]
     },
     "execution_count": 262,
     "metadata": {},
     "output_type": "execute_result"
    }
   ],
   "source": [
    "valid_event.event_type. unique().size"
   ]
  },
  {
   "cell_type": "code",
   "execution_count": 263,
   "metadata": {
    "collapsed": false
   },
   "outputs": [
    {
     "name": "stdout",
     "output_type": "stream",
     "text": [
      "<class 'pandas.core.frame.DataFrame'>\n",
      "Int64Index: 7904 entries, 1351 to 301764\n",
      "Data columns (total 7 columns):\n",
      "user_id       7904 non-null float64\n",
      "event_type    7904 non-null object\n",
      "event_name    7904 non-null object\n",
      "location      7904 non-null object\n",
      "device        7904 non-null object\n",
      "user_type     7904 non-null float64\n",
      "event_time    7904 non-null datetime64[ns]\n",
      "dtypes: datetime64[ns](1), float64(2), object(4)\n",
      "memory usage: 494.0+ KB\n"
     ]
    }
   ],
   "source": [
    "valid_event.info()"
   ]
  },
  {
   "cell_type": "code",
   "execution_count": 264,
   "metadata": {
    "collapsed": false
   },
   "outputs": [
    {
     "data": {
      "text/plain": [
       "<matplotlib.axes._subplots.AxesSubplot at 0x7f28cf5324d0>"
      ]
     },
     "execution_count": 264,
     "metadata": {},
     "output_type": "execute_result"
    },
    {
     "data": {
      "image/png": "[encoded data removed]",
      "text/plain": [
       "<matplotlib.figure.Figure at 0x7f28cf51dad0>"
      ]
     },
     "metadata": {},
     "output_type": "display_data"
    }
   ],
   "source": [
    "valid_event['event_type'].value_counts().plot(kind='bar', title='event_type')"
   ]
  },
  {
   "cell_type": "code",
   "execution_count": 265,
   "metadata": {
    "collapsed": false
   },
   "outputs": [
    {
     "data": {
      "text/plain": [
       "<matplotlib.axes._subplots.AxesSubplot at 0x7f28cf465fd0>"
      ]
     },
     "execution_count": 265,
     "metadata": {},
     "output_type": "execute_result"
    },
    {
     "data": {
      "image/png": "[encoded data removed]",
      "text/plain": [
       "<matplotlib.figure.Figure at 0x7f28cf46c350>"
      ]
     },
     "metadata": {},
     "output_type": "display_data"
    }
   ],
   "source": [
    "valid_event['event_name'].value_counts().plot(kind='bar', title='event_name')"
   ]
  },
  {
   "cell_type": "code",
   "execution_count": 266,
   "metadata": {
    "collapsed": false
   },
   "outputs": [
    {
     "data": {
      "text/plain": [
       "<matplotlib.axes._subplots.AxesSubplot at 0x7f28cf4afd90>"
      ]
     },
     "execution_count": 266,
     "metadata": {},
     "output_type": "execute_result"
    },
    {
     "data": {
      "image/png": "[encoded data removed]",
      "text/plain": [
       "<matplotlib.figure.Figure at 0x7f28cf414710>"
      ]
     },
     "metadata": {},
     "output_type": "display_data"
    }
   ],
   "source": [
    "valid_event['location'].value_counts().plot(kind='bar', title='location')"
   ]
  },
  {
   "cell_type": "code",
   "execution_count": 267,
   "metadata": {
    "collapsed": false
   },
   "outputs": [
    {
     "data": {
      "text/plain": [
       "<matplotlib.axes._subplots.AxesSubplot at 0x7f28cf28e7d0>"
      ]
     },
     "execution_count": 267,
     "metadata": {},
     "output_type": "execute_result"
    },
    {
     "data": {
      "image/png": "[encoded data removed]",
      "text/plain": [
       "<matplotlib.figure.Figure at 0x7f28cf3db150>"
      ]
     },
     "metadata": {},
     "output_type": "display_data"
    }
   ],
   "source": [
    "valid_event['device'].value_counts().plot(kind='bar', title='device')                                            "
   ]
  },
  {
   "cell_type": "code",
   "execution_count": 268,
   "metadata": {
    "collapsed": false,
    "scrolled": true
   },
   "outputs": [
    {
     "data": {
      "text/plain": [
       "<matplotlib.axes._subplots.AxesSubplot at 0x7f28cf04d150>"
      ]
     },
     "execution_count": 268,
     "metadata": {},
     "output_type": "execute_result"
    },
    {
     "data": {
      "image/png": "[encoded data removed]",
      "text/plain": [
       "<matplotlib.figure.Figure at 0x7f28cf376a10>"
      ]
     },
     "metadata": {},
     "output_type": "display_data"
    }
   ],
   "source": [
    "valid_event['user_type'].value_counts().plot(kind='bar', title='user_type')"
   ]
  }
 ],
 "metadata": {
  "kernelspec": {
   "display_name": "Python 2",
   "language": "python",
   "name": "python2"
  },
  "language_info": {
   "codemirror_mode": {
    "name": "ipython",
    "version": 2
   },
   "file_extension": ".py",
   "mimetype": "text/x-python",
   "name": "python",
   "nbconvert_exporter": "python",
   "pygments_lexer": "ipython2",
   "version": "2.7.11"
  }
 },
 "nbformat": 4,
 "nbformat_minor": 0
}
